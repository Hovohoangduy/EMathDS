{
 "cells": [
  {
   "cell_type": "code",
   "execution_count": 2,
   "metadata": {},
   "outputs": [
    {
     "name": "stdout",
     "output_type": "stream",
     "text": [
      "0.006538461538461539\n"
     ]
    }
   ],
   "source": [
    "# Ex 2-1. Using Bayes'Theorem in Python\n",
    "p_coffe_drinker = 0.65\n",
    "p_cancer = 0.005\n",
    "p_coffe_drinker_given_drinker = 0.85\n",
    "\n",
    "p_cancer_given_coffe_drinker = p_coffe_drinker_given_drinker * p_cancer / p_coffe_drinker\n",
    "print(p_cancer_given_coffe_drinker)"
   ]
  },
  {
   "cell_type": "code",
   "execution_count": null,
   "metadata": {},
   "outputs": [],
   "source": []
  }
 ],
 "metadata": {
  "kernelspec": {
   "display_name": "gan",
   "language": "python",
   "name": "python3"
  },
  "language_info": {
   "codemirror_mode": {
    "name": "ipython",
    "version": 3
   },
   "file_extension": ".py",
   "mimetype": "text/x-python",
   "name": "python",
   "nbconvert_exporter": "python",
   "pygments_lexer": "ipython3",
   "version": "3.10.16"
  }
 },
 "nbformat": 4,
 "nbformat_minor": 2
}
